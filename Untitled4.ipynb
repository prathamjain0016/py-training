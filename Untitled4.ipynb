{
  "nbformat": 4,
  "nbformat_minor": 0,
  "metadata": {
    "colab": {
      "provenance": [],
      "authorship_tag": "ABX9TyNyOBKD09+xnPkp2KzAFnHI",
      "include_colab_link": true
    },
    "kernelspec": {
      "name": "python3",
      "display_name": "Python 3"
    },
    "language_info": {
      "name": "python"
    }
  },
  "cells": [
    {
      "cell_type": "markdown",
      "metadata": {
        "id": "view-in-github",
        "colab_type": "text"
      },
      "source": [
        "<a href=\"https://colab.research.google.com/github/prathamjain0016/py-training/blob/main/Untitled4.ipynb\" target=\"_parent\"><img src=\"https://colab.research.google.com/assets/colab-badge.svg\" alt=\"Open In Colab\"/></a>"
      ]
    },
    {
      "cell_type": "code",
      "execution_count": null,
      "metadata": {
        "colab": {
          "base_uri": "https://localhost:8080/"
        },
        "id": "tyfaxO3zrYLd",
        "outputId": "28f5f908-00cb-4640-99b6-7cdd2163f024"
      },
      "outputs": [
        {
          "output_type": "stream",
          "name": "stdout",
          "text": [
            "Hello colab\n"
          ]
        }
      ],
      "source": [
        "print(\"Hello colab\")"
      ]
    },
    {
      "cell_type": "code",
      "source": [
        "age = 20\n",
        "age = 30\n",
        "price = 19.4\n",
        "first_name = 'foggy'\n",
        "is_online = False\n",
        "print(is_online)"
      ],
      "metadata": {
        "colab": {
          "base_uri": "https://localhost:8080/"
        },
        "id": "vmEtzWerr24G",
        "outputId": "93e23431-12c1-421c-b5b0-3d77627bf0e9"
      },
      "execution_count": null,
      "outputs": [
        {
          "output_type": "stream",
          "name": "stdout",
          "text": [
            "False\n"
          ]
        }
      ]
    },
    {
      "cell_type": "code",
      "source": [
        "name = 'Harry'\n",
        "age = 20\n",
        "is_new_patient = True"
      ],
      "metadata": {
        "id": "1Fq-Tpe7s1vx"
      },
      "execution_count": null,
      "outputs": []
    },
    {
      "cell_type": "code",
      "source": [
        "name = input(\"What is your name? \")\n",
        "print(\"Hello \"+ name)"
      ],
      "metadata": {
        "colab": {
          "base_uri": "https://localhost:8080/"
        },
        "id": "3qlfv3lctM9r",
        "outputId": "26f0f4a2-0a5f-4aef-b8a2-e95887264555"
      },
      "execution_count": null,
      "outputs": [
        {
          "output_type": "stream",
          "name": "stdout",
          "text": [
            "What is your name? foggy\n",
            "Hello foggy\n"
          ]
        }
      ]
    },
    {
      "cell_type": "code",
      "source": [
        "birth_year = input(\"Enter your birth year: \")\n",
        "age = 2024-int(birth_year)\n",
        "print(age)"
      ],
      "metadata": {
        "colab": {
          "base_uri": "https://localhost:8080/"
        },
        "id": "H8FPok2It5D8",
        "outputId": "a19a9b5e-cd27-49cf-874f-516f6f8f4f47"
      },
      "execution_count": null,
      "outputs": [
        {
          "output_type": "stream",
          "name": "stdout",
          "text": [
            "Enter your birth year: 2002\n",
            "22\n"
          ]
        }
      ]
    },
    {
      "cell_type": "code",
      "source": [
        "first = float(input(\"Enter the first number: \"))\n",
        "second = input(\"Enter the second number: \")\n",
        "\n",
        "sum = first + float(second)\n",
        "\n",
        "print(\"sum: \" + str(sum))\n"
      ],
      "metadata": {
        "colab": {
          "base_uri": "https://localhost:8080/"
        },
        "id": "rdBc90AcxNCp",
        "outputId": "23296256-2e45-40cc-a734-95b2106271ec"
      },
      "execution_count": null,
      "outputs": [
        {
          "output_type": "stream",
          "name": "stdout",
          "text": [
            "Enter the first number: 10\n",
            "Enter the second number: 20\n",
            "sum: 30.0\n"
          ]
        }
      ]
    },
    {
      "cell_type": "code",
      "source": [
        "course = \"Python for begninners\"\n",
        "print('Python' in course)\n",
        "print(course)"
      ],
      "metadata": {
        "colab": {
          "base_uri": "https://localhost:8080/"
        },
        "id": "c7f-KCq17abI",
        "outputId": "d2a4d161-6768-4fbd-8554-b059f8ddc188"
      },
      "execution_count": null,
      "outputs": [
        {
          "output_type": "stream",
          "name": "stdout",
          "text": [
            "True\n",
            "Python for begninners\n"
          ]
        }
      ]
    },
    {
      "cell_type": "code",
      "source": [
        "print(10 ** 3)"
      ],
      "metadata": {
        "colab": {
          "base_uri": "https://localhost:8080/"
        },
        "id": "Fcyl0dAG8jOC",
        "outputId": "70a19352-850e-406a-bc56-88bcbd687454"
      },
      "execution_count": null,
      "outputs": [
        {
          "output_type": "stream",
          "name": "stdout",
          "text": [
            "1000\n"
          ]
        }
      ]
    },
    {
      "cell_type": "code",
      "source": [
        "x = (10 + 3) * 2\n",
        "print(x)"
      ],
      "metadata": {
        "colab": {
          "base_uri": "https://localhost:8080/"
        },
        "id": "7r8EgpVb9DZd",
        "outputId": "f3d37e43-a888-407f-d627-67012e607c83"
      },
      "execution_count": null,
      "outputs": [
        {
          "output_type": "stream",
          "name": "stdout",
          "text": [
            "26\n"
          ]
        }
      ]
    },
    {
      "cell_type": "code",
      "source": [
        "x = 3 == 2\n",
        "print(x)"
      ],
      "metadata": {
        "colab": {
          "base_uri": "https://localhost:8080/"
        },
        "id": "8rN_o-E99V7m",
        "outputId": "20a73df5-4d3d-428e-fe95-0bf624d79839"
      },
      "execution_count": null,
      "outputs": [
        {
          "output_type": "stream",
          "name": "stdout",
          "text": [
            "False\n"
          ]
        }
      ]
    },
    {
      "cell_type": "code",
      "source": [
        "price = 5\n",
        "print(not price > 10 )"
      ],
      "metadata": {
        "colab": {
          "base_uri": "https://localhost:8080/"
        },
        "id": "_ijWuOku94Ea",
        "outputId": "c1216edd-9e2e-45b5-f0b9-ffd2877eda74"
      },
      "execution_count": null,
      "outputs": [
        {
          "output_type": "stream",
          "name": "stdout",
          "text": [
            "True\n"
          ]
        }
      ]
    },
    {
      "cell_type": "code",
      "source": [
        "temperature = 5\n",
        "\n",
        "if temperature > 30:\n",
        "  print(\"It's a hot day\")\n",
        "  print(\"Abee yarr\")\n",
        "elif temperature > 20:\n",
        "  print(\"Its a nice day\")\n",
        "elif temperature > 10:\n",
        "  print(\"It's is cold day\")\n",
        "else:\n",
        "  print(\"Its cold\")\n",
        "\n"
      ],
      "metadata": {
        "colab": {
          "base_uri": "https://localhost:8080/"
        },
        "id": "VtMTjrLW-LnU",
        "outputId": "034fdd0f-1a33-4f2e-840d-b96ad0cf3b86"
      },
      "execution_count": null,
      "outputs": [
        {
          "output_type": "stream",
          "name": "stdout",
          "text": [
            "Its cold\n"
          ]
        }
      ]
    },
    {
      "cell_type": "code",
      "source": [
        "weight = float(input(\"Enter your weight: \"))\n",
        "metric = input(\"(K)g or (L)bs: \")\n",
        "\n",
        "if metric.upper() == \"K\":\n",
        "  weight *= 2.2\n",
        "  print(\"weight in lbs: \"+ str(weight))\n",
        "elif metric.upper() ==\"L\":\n",
        "  weight *= 0.4534\n",
        "  print(\"weight in kg: \",weight)\n",
        "else:\n",
        "  print(\"Invalid input\")"
      ],
      "metadata": {
        "colab": {
          "base_uri": "https://localhost:8080/"
        },
        "id": "ktVB7d8hAX-Y",
        "outputId": "f8672230-5913-4bdb-c581-8226423f48ab"
      },
      "execution_count": null,
      "outputs": [
        {
          "output_type": "stream",
          "name": "stdout",
          "text": [
            "Enter your weight: 122\n",
            "(K)g or (L)bs: l\n",
            "weight in kg:  55.314800000000005\n"
          ]
        }
      ]
    },
    {
      "cell_type": "code",
      "source": [],
      "metadata": {
        "id": "-J37hdUDDxlk"
      },
      "execution_count": null,
      "outputs": []
    },
    {
      "cell_type": "code",
      "source": [],
      "metadata": {
        "id": "e3-kS3mGDyde"
      },
      "execution_count": null,
      "outputs": []
    },
    {
      "cell_type": "code",
      "source": [
        "i = 1\n",
        "while i<= 10:\n",
        "  print(i * '*')\n",
        "  i = i+1"
      ],
      "metadata": {
        "colab": {
          "base_uri": "https://localhost:8080/"
        },
        "id": "ts_8j571Bp4v",
        "outputId": "5e1f7685-f43c-43f3-beee-7ba2f78f19eb"
      },
      "execution_count": null,
      "outputs": [
        {
          "output_type": "stream",
          "name": "stdout",
          "text": [
            "*\n",
            "**\n",
            "***\n",
            "****\n",
            "*****\n",
            "******\n",
            "*******\n",
            "********\n",
            "*********\n",
            "**********\n"
          ]
        }
      ]
    },
    {
      "cell_type": "code",
      "source": [
        "names = [\"john\", \"bob\", \"Mosh\", \"Sam\", \"marry\"]\n",
        "names[0] = \"jon\"\n",
        "\n",
        "print(names[0:3])"
      ],
      "metadata": {
        "colab": {
          "base_uri": "https://localhost:8080/"
        },
        "id": "a-CtiL9iDw6g",
        "outputId": "19e9a15f-5332-4dda-d24f-722eb17e2e40"
      },
      "execution_count": null,
      "outputs": [
        {
          "output_type": "stream",
          "name": "stdout",
          "text": [
            "['jon', 'bob', 'Mosh']\n"
          ]
        }
      ]
    },
    {
      "cell_type": "code",
      "source": [
        "numbers = [1,2,3,4,5]\n",
        "print(len(numbers))\n"
      ],
      "metadata": {
        "colab": {
          "base_uri": "https://localhost:8080/"
        },
        "id": "dJYA5krfAKFW",
        "outputId": "ca2cfb03-ebab-496b-e766-4c6d185f69d3"
      },
      "execution_count": null,
      "outputs": [
        {
          "output_type": "stream",
          "name": "stdout",
          "text": [
            "5\n"
          ]
        }
      ]
    },
    {
      "cell_type": "code",
      "source": [
        "numbers = [1,2,3,4,5]\n",
        "for item in numbers:\n",
        "  print(item)"
      ],
      "metadata": {
        "colab": {
          "base_uri": "https://localhost:8080/"
        },
        "id": "Lg6-ERomFqol",
        "outputId": "5c6010c1-32c5-44e2-8a27-22f7583f8806"
      },
      "execution_count": null,
      "outputs": [
        {
          "output_type": "stream",
          "name": "stdout",
          "text": [
            "1\n",
            "2\n",
            "3\n",
            "4\n",
            "5\n"
          ]
        }
      ]
    },
    {
      "cell_type": "code",
      "source": [
        "for item in range(5,10,2):\n",
        "  print(item)"
      ],
      "metadata": {
        "colab": {
          "base_uri": "https://localhost:8080/"
        },
        "id": "WRBmCs1-GUue",
        "outputId": "6e485343-fb49-49ba-ec08-a11e0080a7fc"
      },
      "execution_count": null,
      "outputs": [
        {
          "output_type": "stream",
          "name": "stdout",
          "text": [
            "5\n",
            "7\n",
            "9\n"
          ]
        }
      ]
    },
    {
      "cell_type": "code",
      "source": [
        "numbers = (1,2,3,3,2,3)\n",
        "numbers.index(3)"
      ],
      "metadata": {
        "colab": {
          "base_uri": "https://localhost:8080/"
        },
        "id": "1teQ1VR3HKMN",
        "outputId": "217f7493-f38b-4e63-dc47-c97a792a130c"
      },
      "execution_count": null,
      "outputs": [
        {
          "output_type": "execute_result",
          "data": {
            "text/plain": [
              "2"
            ]
          },
          "metadata": {},
          "execution_count": 82
        }
      ]
    },
    {
      "cell_type": "markdown",
      "source": [],
      "metadata": {
        "id": "LQju-o1Q8l-W"
      }
    },
    {
      "cell_type": "code",
      "source": [
        "\n",
        "height =input(\"Enter the height: \")\n",
        "print(height)\n"
      ],
      "metadata": {
        "colab": {
          "base_uri": "https://localhost:8080/"
        },
        "id": "sZGpW-jBKC_C",
        "outputId": "40f519b5-aaa9-4b84-c988-d252b8ca9a0c"
      },
      "execution_count": null,
      "outputs": [
        {
          "output_type": "stream",
          "name": "stdout",
          "text": [
            "Enter the height: 134\n",
            "134\n"
          ]
        }
      ]
    },
    {
      "cell_type": "code",
      "source": [
        "def first_func():\n",
        "  print(\"good\")\n",
        "  print(\"best\")\n",
        "  print(45/89)\n",
        "\n",
        "first_func()"
      ],
      "metadata": {
        "colab": {
          "base_uri": "https://localhost:8080/"
        },
        "id": "mTt0dEcfD0ww",
        "outputId": "6b062f14-7bc8-440b-e0ef-3d7c41b228f6"
      },
      "execution_count": null,
      "outputs": [
        {
          "output_type": "stream",
          "name": "stdout",
          "text": [
            "good\n",
            "best\n",
            "0.5056179775280899\n"
          ]
        }
      ]
    },
    {
      "cell_type": "code",
      "source": [
        "def addition(num1,num2):\n",
        "  \"\"\"This is addition\"\"\" #doc string\n",
        "  print(\"The addition is \", num1 + num2)\n",
        "\n",
        "addition(45,65)\n",
        "print(addition.__doc__)"
      ],
      "metadata": {
        "colab": {
          "base_uri": "https://localhost:8080/"
        },
        "id": "LSYjL19qHQsQ",
        "outputId": "efd8f7d9-1cbb-4515-b2b2-c3d90ed963cb"
      },
      "execution_count": null,
      "outputs": [
        {
          "output_type": "stream",
          "name": "stdout",
          "text": [
            "The addition is  110\n",
            "This is addition\n"
          ]
        }
      ]
    },
    {
      "cell_type": "code",
      "source": [
        "def myfunction(): #no argument function\n",
        "  a=45\n",
        "  b=14\n",
        "  print(\"Sum ===> \", a+b)\n",
        "\n",
        "myfunction()"
      ],
      "metadata": {
        "colab": {
          "base_uri": "https://localhost:8080/"
        },
        "id": "S88T-bt-KCtL",
        "outputId": "f0a7ee4a-eefe-4ec7-e257-37cc3586e348"
      },
      "execution_count": null,
      "outputs": [
        {
          "output_type": "stream",
          "name": "stdout",
          "text": [
            "Sum ===>  59\n"
          ]
        }
      ]
    },
    {
      "cell_type": "code",
      "source": [
        "#Argument Based Function\n",
        "#Position argument Function\n",
        "\n",
        "#here new have 4 parameters\n",
        "def new(data1, data2, data3, data4):\n",
        "  print(\"sub ==> \", data1 - data2)\n",
        "  print(\"multiply ==> \", data3*data4)\n",
        "  print(\"add ==> \", data2+data4)\n",
        "\n",
        "new(1,2,3,4)"
      ],
      "metadata": {
        "colab": {
          "base_uri": "https://localhost:8080/"
        },
        "id": "IIEp0shmKhNu",
        "outputId": "8412afa4-767b-4a43-d6b6-177937d70a0e"
      },
      "execution_count": null,
      "outputs": [
        {
          "output_type": "stream",
          "name": "stdout",
          "text": [
            "sub ==>  -1\n",
            "multiply ==>  12\n",
            "add ==>  6\n"
          ]
        }
      ]
    },
    {
      "cell_type": "code",
      "source": [
        "#Keyword agrument function\n",
        "\n",
        "def bio(name,age,roll,city):\n",
        "  print(\"Hello\",name,\"Your Roll is\", roll, \"and Age is\", age, \"and city is\", city)\n",
        "\n",
        "bio(\"sam\", roll = 456, age = 22, city = \"Mumbai\")"
      ],
      "metadata": {
        "colab": {
          "base_uri": "https://localhost:8080/"
        },
        "id": "VDE6yVQjLb46",
        "outputId": "ca5ea5d8-8cba-4edf-a3e8-20d8305ffb2c"
      },
      "execution_count": null,
      "outputs": [
        {
          "output_type": "stream",
          "name": "stdout",
          "text": [
            "Hello sam Your Roll is 456 and Age is 22 and city is Mumbai\n"
          ]
        }
      ]
    },
    {
      "cell_type": "code",
      "source": [
        " #default argument function\n",
        " #here few value fixed with the data at the of creation\n",
        "\n",
        "def my(city=\"NewYork\", coun = \"USA\", sector = 0, l_mark = \"XYZ\"):\n",
        "  print(\"hello your city is \", city , \"with country\", coun, \"sector name is\", sector, \"with landmark\", l_mark)\n",
        "\n",
        "my()\n",
        "my(\"Delhi\", \"Inida\")\n",
        "my(\"Munmbai\",l_mark=\"Earth\")"
      ],
      "metadata": {
        "colab": {
          "base_uri": "https://localhost:8080/"
        },
        "id": "CMaD2oetLb6z",
        "outputId": "5042e5cd-bda0-4e1f-d9d1-9fad85697b16"
      },
      "execution_count": null,
      "outputs": [
        {
          "output_type": "stream",
          "name": "stdout",
          "text": [
            "hello your city is  NewYork with country USA sector name is 0 with landmark XYZ\n",
            "hello your city is  Delhi with country Inida sector name is 0 with landmark XYZ\n",
            "hello your city is  Munmbai with country USA sector name is 0 with landmark Earth\n"
          ]
        }
      ]
    },
    {
      "cell_type": "code",
      "source": [
        "#variable length function\n",
        "#It accepts multiple data un single paramenter\n",
        "#here we pass parameter like e.g(*X) is parameter with * and * represents the variable length\n",
        "#it is also considered as (*args)\n",
        "#return type is tuple\n",
        "\n",
        "def vars(*y):\n",
        "  print(\"y====\", y, type(y))\n",
        "vars(45,989,78,\"hello\",78)\n",
        "\n",
        "# if we have variable length function with positional args\n",
        "\n",
        "def vars1(a,*y):\n",
        "  print(\"y====>\",y)\n",
        "\n",
        "vars1(1,2,3,4,5)"
      ],
      "metadata": {
        "colab": {
          "base_uri": "https://localhost:8080/"
        },
        "id": "okesdEuVWVFk",
        "outputId": "33f8ca10-a121-4514-b4dc-3e9b7a84db4e"
      },
      "execution_count": null,
      "outputs": [
        {
          "output_type": "stream",
          "name": "stdout",
          "text": [
            "y==== (45, 989, 78, 'hello', 78) <class 'tuple'>\n",
            "y====> (2, 3, 4, 5)\n"
          ]
        }
      ]
    },
    {
      "cell_type": "code",
      "source": [
        "#keyword variable length function\n",
        "#here we have variable function with keyword as this consider\n",
        "#as variable length keyword argument\n",
        "#syntax -- **a(keyword argument)(variable length function)\n",
        "\n",
        "def disp(**a): #here a is keyword variable length function(**kwargs)\n",
        "  print(\"data ===\",a,type(a))\n",
        "\n",
        "disp(a=1,b=23.4,c=[1,2,3,4,5,6])\n",
        "\n"
      ],
      "metadata": {
        "colab": {
          "base_uri": "https://localhost:8080/"
        },
        "id": "Asyih_i_qePc",
        "outputId": "c4869f7c-5eda-460b-ac7c-85d9617508f4"
      },
      "execution_count": null,
      "outputs": [
        {
          "output_type": "stream",
          "name": "stdout",
          "text": [
            "data === {'a': 1, 'b': 23.4, 'c': [1, 2, 3, 4, 5, 6]} <class 'dict'>\n"
          ]
        }
      ]
    },
    {
      "cell_type": "code",
      "source": [
        "#Here is python 3.8 we have new operator which is postion only parameter\n",
        "\n",
        "'''\n",
        "We have new function parameter syntax \"/\"\n",
        "and it is use to indiacate that some parameters can be use as\n",
        "positionally and can not be used as keywords.\n",
        "'''\n",
        "def new(a,b,c,/,d,e):\n",
        "  print(a,b,c,d,e)\n",
        "\n",
        "new(\"A\",\"b\",1,d=2,e=3)\n"
      ],
      "metadata": {
        "colab": {
          "base_uri": "https://localhost:8080/"
        },
        "id": "lF8HLvpNWUPq",
        "outputId": "3be8127d-8459-454f-e2f2-180d36a33b1d"
      },
      "execution_count": null,
      "outputs": [
        {
          "output_type": "stream",
          "name": "stdout",
          "text": [
            "A b 1 2 3\n"
          ]
        }
      ]
    },
    {
      "cell_type": "code",
      "source": [
        "def check(a,b):\n",
        "  return a+b\n",
        "\n",
        "sum=check(43,44)\n",
        "print(sum)"
      ],
      "metadata": {
        "id": "wRCxxTDAW8QX",
        "outputId": "fb33583e-0b22-415b-d479-dceb8f5f551a",
        "colab": {
          "base_uri": "https://localhost:8080/"
        }
      },
      "execution_count": null,
      "outputs": [
        {
          "output_type": "stream",
          "name": "stdout",
          "text": [
            "87\n"
          ]
        }
      ]
    },
    {
      "cell_type": "code",
      "source": [
        "def new(a,b):\n",
        "  c = a+b\n",
        "  return c\n",
        "  x = 5\n",
        "  print(x)\n",
        "\n",
        "print(new(45,89))\n"
      ],
      "metadata": {
        "id": "62YqF93gXz-y",
        "outputId": "736c513b-7362-49d9-bf4a-6372c52a6c51",
        "colab": {
          "base_uri": "https://localhost:8080/"
        }
      },
      "execution_count": null,
      "outputs": [
        {
          "output_type": "stream",
          "name": "stdout",
          "text": [
            "134\n"
          ]
        }
      ]
    },
    {
      "cell_type": "code",
      "source": [
        "def oprn(a,b):\n",
        "  return a+b,a-b,a*b,a/b\n",
        "\n",
        "print(oprn(2,3))\n",
        "\n",
        "a,b,c,d = oprn(3,4)\n",
        "print(a,b,c,d)"
      ],
      "metadata": {
        "id": "tvhSbW6XYyxi",
        "outputId": "f0f0e98b-c8eb-434e-de31-c25a79b913ef",
        "colab": {
          "base_uri": "https://localhost:8080/"
        }
      },
      "execution_count": null,
      "outputs": [
        {
          "output_type": "stream",
          "name": "stdout",
          "text": [
            "(5, -1, 6, 0.6666666666666666)\n",
            "7 -1 12 0.75\n"
          ]
        }
      ]
    },
    {
      "cell_type": "code",
      "source": [
        "def even_odd(a):\n",
        "  if a%2 == 0:\n",
        "    return \"even\"\n",
        "  else:\n",
        "    return \"odd\"\n",
        "\n",
        "print(even_odd(337))"
      ],
      "metadata": {
        "id": "G8HMuP-lZixF",
        "outputId": "6b900d34-c9c3-485d-9260-756b78638806",
        "colab": {
          "base_uri": "https://localhost:8080/"
        }
      },
      "execution_count": null,
      "outputs": [
        {
          "output_type": "stream",
          "name": "stdout",
          "text": [
            "odd\n"
          ]
        }
      ]
    },
    {
      "cell_type": "code",
      "source": [
        "def test(a,b):\n",
        "  print(a+b)\n",
        "\n",
        "print(test(1,2))"
      ],
      "metadata": {
        "id": "VyTVYSUsaMJR",
        "outputId": "a9f46c6c-0164-455c-b494-2b9d7946c8da",
        "colab": {
          "base_uri": "https://localhost:8080/"
        }
      },
      "execution_count": null,
      "outputs": [
        {
          "output_type": "stream",
          "name": "stdout",
          "text": [
            "3\n",
            "None\n"
          ]
        }
      ]
    },
    {
      "cell_type": "code",
      "source": [
        "#Nested function\n",
        "def A(a):\n",
        "  print(\"Statement 1 in A\", a)\n",
        "  def B(b):\n",
        "    print(\"Statement 2 in B\",b)\n",
        "    def C(c):\n",
        "      print(\"Statement 3 in c\", c)\n",
        "      def D(d):\n",
        "        print(\"Statement 4 in d\", d)\n",
        "      D(33)\n",
        "    C(44)\n",
        "  B(56)\n",
        "A(45)\n",
        "\n",
        "#here outer function call inner function\n",
        "#we never execute inner function directly\n",
        "#we execute outer then we call inner"
      ],
      "metadata": {
        "id": "Qx_ZpfS_aazR",
        "outputId": "483eee45-50bc-48c0-e4ff-6bb73eb492a9",
        "colab": {
          "base_uri": "https://localhost:8080/"
        }
      },
      "execution_count": null,
      "outputs": [
        {
          "output_type": "stream",
          "name": "stdout",
          "text": [
            "Statement 1 in A 45\n",
            "Statement 2 in B 56\n",
            "Statement 3 in c 44\n",
            "Statement 4 in d 33\n"
          ]
        }
      ]
    },
    {
      "cell_type": "code",
      "source": [
        "def X(a,b):\n",
        "  print(\"I am outer\")\n",
        "  def Y(data):\n",
        "    return data**b\n",
        "  return Y(a)\n",
        "\n",
        "print(\"Output \", X(4,3))"
      ],
      "metadata": {
        "id": "RhaSGGO2dMrq",
        "outputId": "19207176-089b-4851-cd2b-f2d8144f0d9a",
        "colab": {
          "base_uri": "https://localhost:8080/"
        }
      },
      "execution_count": null,
      "outputs": [
        {
          "output_type": "stream",
          "name": "stdout",
          "text": [
            "I am outer\n",
            "Output  64\n"
          ]
        }
      ]
    },
    {
      "cell_type": "code",
      "source": [
        "x = 47\n",
        "def f1():\n",
        "\n",
        "  x = 888\n",
        "  print(x)\n",
        "  y = globals()[\"x\"]\n",
        "  print(y)\n",
        "\n",
        "f1()"
      ],
      "metadata": {
        "colab": {
          "base_uri": "https://localhost:8080/"
        },
        "id": "ZCBJ-vsqFPxD",
        "outputId": "b37d0d69-3f76-4461-ce5e-d14f36929761"
      },
      "execution_count": 2,
      "outputs": [
        {
          "output_type": "stream",
          "name": "stdout",
          "text": [
            "888\n",
            "47\n"
          ]
        }
      ]
    },
    {
      "cell_type": "code",
      "source": [
        "def even_odd(*num):\n",
        "  even = []\n",
        "  odd = []\n",
        "  print(\"data === \", num)\n",
        "  for i in num:\n",
        "    if i%2 == 0:\n",
        "      even.append(i)\n",
        "    else:\n",
        "      odd.append(i)\n",
        "  print(\"Even == \", even,\"\\nodd ==\", odd)\n",
        "\n",
        "even_odd(1,2,3,4,5,6,7)\n",
        "\n",
        ""
      ],
      "metadata": {
        "colab": {
          "base_uri": "https://localhost:8080/"
        },
        "id": "6FeNiN-1GgLZ",
        "outputId": "a08c56df-134d-4bcb-dbd9-4a0bd122acb4"
      },
      "execution_count": 10,
      "outputs": [
        {
          "output_type": "stream",
          "name": "stdout",
          "text": [
            "data ===  (1, 2, 3, 4, 5, 6, 7)\n",
            "Even ==  [2, 4, 6] \n",
            "odd == [1, 3, 5, 7]\n"
          ]
        }
      ]
    },
    {
      "cell_type": "code",
      "source": [
        "def sum(*data):\n",
        "\n",
        "  sum = 0\n",
        "\n",
        "  for i in data:\n",
        "    sum += i\n",
        "  return sum\n",
        "\n",
        "print(sum(1,2,3,4,5,6,7))"
      ],
      "metadata": {
        "colab": {
          "base_uri": "https://localhost:8080/"
        },
        "id": "_OQ-qzcrIJTo",
        "outputId": "9ba17655-3206-4d82-b727-ceb4371b21cb"
      },
      "execution_count": 11,
      "outputs": [
        {
          "output_type": "stream",
          "name": "stdout",
          "text": [
            "28\n"
          ]
        }
      ]
    },
    {
      "cell_type": "code",
      "source": [
        "def check(data):\n",
        "  d = {\"upper\":0, \"Lower\":0}\n",
        "\n",
        "  for i in data:\n",
        "    if i.isupper():\n",
        "      d[\"upper\"] += 1\n",
        "    elif i.islower():\n",
        "      d[\"Lower\"] += 1\n",
        "    else:\n",
        "      pass\n",
        "\n",
        "  print(\"Actual data\", data , \"Length\", len(data))\n",
        "  print(\"Upper \", d[\"upper\"])\n",
        "  print(\"lower \", d[\"Lower\"])\n",
        "\n",
        "check(\"AsK ItlOUd\")\n"
      ],
      "metadata": {
        "colab": {
          "base_uri": "https://localhost:8080/"
        },
        "id": "91w6Y-m_Gqvx",
        "outputId": "a32a2a7c-ac8a-49e3-b69b-6cc9185ea795"
      },
      "execution_count": 15,
      "outputs": [
        {
          "output_type": "stream",
          "name": "stdout",
          "text": [
            "Actual data AsK ItlOUd Length 10\n",
            "Upper  5\n",
            "lower  4\n"
          ]
        }
      ]
    },
    {
      "cell_type": "code",
      "source": [
        "def sort_str(data):\n",
        "  data = data.split(\",\")\n",
        "  print(\"data \", data)\n",
        "  data.sort()\n",
        "  print(\"data\", data)\n",
        "  data = \" \".join(data)\n",
        "  print(data)\n",
        "\n",
        "sort_str(\"hello,zebra,cool,wheat,best,apple,gun\")"
      ],
      "metadata": {
        "colab": {
          "base_uri": "https://localhost:8080/"
        },
        "id": "r1jT-ickKfVR",
        "outputId": "c68f88b1-e572-4ead-a51e-07010c0f663e"
      },
      "execution_count": 19,
      "outputs": [
        {
          "output_type": "stream",
          "name": "stdout",
          "text": [
            "data  ['hello', 'zebra', 'cool', 'wheat', 'best', 'apple', 'gun']\n",
            "data ['apple', 'best', 'cool', 'gun', 'hello', 'wheat', 'zebra']\n",
            "apple best cool gun hello wheat zebra\n"
          ]
        }
      ]
    },
    {
      "cell_type": "code",
      "source": [
        "def fun():\n",
        "  x = 1\n",
        "  y = 2\n",
        "  srr = \"ssff\"\n",
        "  print(\"abc\")\n",
        "\n",
        "print(fun.__code__.co_nlocals)"
      ],
      "metadata": {
        "colab": {
          "base_uri": "https://localhost:8080/"
        },
        "id": "ZUFTRrvKLHWF",
        "outputId": "49d3770f-5167-49e7-ef8d-e2a665d22c37"
      },
      "execution_count": 21,
      "outputs": [
        {
          "output_type": "stream",
          "name": "stdout",
          "text": [
            "3\n"
          ]
        }
      ]
    },
    {
      "cell_type": "code",
      "source": [
        "#WAP to check number of digits in a number\n",
        "\n",
        "def check_digits(num):\n",
        "\n",
        "  count = 0\n",
        "\n",
        "  while num!=0:\n",
        "\n",
        "    num = num // 10\n",
        "    count += 1\n",
        "  print(count)\n",
        "\n",
        "check_digits(99900000)"
      ],
      "metadata": {
        "colab": {
          "base_uri": "https://localhost:8080/"
        },
        "id": "Sb492v-lL-JO",
        "outputId": "41ebdf52-ff68-49fb-d9b3-adc47ec879e3"
      },
      "execution_count": 23,
      "outputs": [
        {
          "output_type": "stream",
          "name": "stdout",
          "text": [
            "8\n"
          ]
        }
      ]
    },
    {
      "cell_type": "code",
      "source": [
        "#WAP to reverse a number and also check if the number is a palindrome\n",
        "\n",
        "def reverse_num(num):\n",
        "\n",
        "  global temp\n",
        "  temp = 0\n",
        "\n",
        "  while num!=0:\n",
        "\n",
        "    temp = temp*10 + (num%10)\n",
        "    num = num//10\n",
        "\n",
        "  print(temp)\n",
        "\n",
        "\n",
        "def check_palindrome(num):\n",
        "\n",
        "  reverse_num(num)\n",
        "\n",
        "  if temp == num:\n",
        "    print(\"isPalindrome\")\n",
        "  else:\n",
        "    print(\"notPalindrome\")\n",
        "\n",
        "check_palindrome(12214)\n",
        "\n",
        "\n"
      ],
      "metadata": {
        "colab": {
          "base_uri": "https://localhost:8080/"
        },
        "id": "vgTDGg9UNcdB",
        "outputId": "981bc7c9-0ed5-4919-d4d0-ccc6317d4199"
      },
      "execution_count": 29,
      "outputs": [
        {
          "output_type": "stream",
          "name": "stdout",
          "text": [
            "41221\n",
            "notPalindrome\n"
          ]
        }
      ]
    },
    {
      "cell_type": "code",
      "source": [
        "def data(n,a,ids):\n",
        "  print(\"Your name is {} and your age is {} and your id is {}\".format(n,a,ids))\n",
        "\n",
        "data(\"Pratham\",22,1598)\n",
        "\n",
        "def stud(n,a,ids,m,s):\n",
        "  data(n,a,ids)\n",
        "  print(\"your marks are {} and your subject is {}\".format(m,s))\n",
        "\n",
        "stud(\"Foggy\",22,1598,935,\"snowflakes\")"
      ],
      "metadata": {
        "colab": {
          "base_uri": "https://localhost:8080/"
        },
        "id": "M9vjv35bP93A",
        "outputId": "db8fe565-a76d-4c72-bb5f-00f9d0c3d085"
      },
      "execution_count": 32,
      "outputs": [
        {
          "output_type": "stream",
          "name": "stdout",
          "text": [
            "Your name is Pratham and your age is 22 and your id is 1598\n",
            "Your name is Foggy and your age is 22 and your id is 1598\n",
            "your marks are 935 and your subject is snowflakes\n"
          ]
        }
      ]
    },
    {
      "cell_type": "code",
      "source": [
        "pip install memory_profiler"
      ],
      "metadata": {
        "colab": {
          "base_uri": "https://localhost:8080/"
        },
        "id": "irzp3W-Fp0GC",
        "outputId": "c5162c65-c90c-4f36-d1bb-7561da0944bc"
      },
      "execution_count": 36,
      "outputs": [
        {
          "output_type": "stream",
          "name": "stdout",
          "text": [
            "Collecting memory_profiler\n",
            "  Downloading memory_profiler-0.61.0-py3-none-any.whl.metadata (20 kB)\n",
            "Requirement already satisfied: psutil in /usr/local/lib/python3.10/dist-packages (from memory_profiler) (5.9.5)\n",
            "Downloading memory_profiler-0.61.0-py3-none-any.whl (31 kB)\n",
            "Installing collected packages: memory_profiler\n",
            "Successfully installed memory_profiler-0.61.0\n"
          ]
        }
      ]
    },
    {
      "cell_type": "code",
      "source": [
        "from memory_profiler import profile"
      ],
      "metadata": {
        "id": "QouBgdwWqWuP"
      },
      "execution_count": 37,
      "outputs": []
    },
    {
      "cell_type": "code",
      "source": [
        "\n",
        "def fib(n):\n",
        "\n",
        "  if n<=1:\n",
        "    return 1\n",
        "  else:\n",
        "    return (fib(n-1)+fib(n-2))\n",
        "print(fib(6))\n",
        "\n",
        "f = fib\n",
        "\n",
        "f(9)\n",
        "\n",
        "\n"
      ],
      "metadata": {
        "colab": {
          "base_uri": "https://localhost:8080/"
        },
        "id": "TJmQfncwnIPQ",
        "outputId": "f79e7651-4b0a-49fe-8240-248fadb7a551"
      },
      "execution_count": 1,
      "outputs": [
        {
          "output_type": "stream",
          "name": "stdout",
          "text": [
            "13\n"
          ]
        },
        {
          "output_type": "execute_result",
          "data": {
            "text/plain": [
              "55"
            ]
          },
          "metadata": {},
          "execution_count": 1
        }
      ]
    },
    {
      "cell_type": "code",
      "source": [
        "#clouse function\n",
        "#If a function have a inner function and return its output to the outer function\n",
        "#it is called clouser function\n",
        "\n",
        "def outer(name):\n",
        "  print(\"name\",name)\n",
        "  def age(b):\n",
        "    print('Age', b)\n",
        "  return age\n",
        "\n",
        "print(outer(\"Pratham\"))\n",
        "\n",
        "x = outer(\"foggy\")\n",
        "x(22)"
      ],
      "metadata": {
        "colab": {
          "base_uri": "https://localhost:8080/"
        },
        "id": "b10A2Tzj2q_i",
        "outputId": "815c5a8a-c651-4463-d7de-b97e755af27e"
      },
      "execution_count": 3,
      "outputs": [
        {
          "output_type": "stream",
          "name": "stdout",
          "text": [
            "name Pratham\n",
            "<function outer.<locals>.age at 0x7fe204ae3370>\n",
            "name foggy\n",
            "Age 22\n"
          ]
        }
      ]
    },
    {
      "cell_type": "code",
      "source": [
        "#Anonymus function\n",
        "\n",
        "\"\"\"\n",
        "iF we have a function but we dont have its name,\n",
        "Means nameless function is called anonymus function.\n",
        "\n",
        "--LAMDA FUNCTION---\n",
        "By using landa function we can write very concise code\n",
        "so that readability of the code will improve\n",
        "here we have 3 components 1) - keyword(lambda)\n",
        "2) - bound variables 3)- body\n",
        "\"\"\"\n",
        "\n",
        "def add(a,b):\n",
        "  print(\"sum\",a+b)\n",
        "add(10,2)\n",
        "\n",
        "print((lambda x,y:x+y)(1,2))\n",
        "a = lambda x,y:x*y\n",
        "print(a(2,3))"
      ],
      "metadata": {
        "id": "8NgjZgk_SdI8",
        "outputId": "a7fc43a8-b66d-4b50-d332-61200d9ae62a",
        "colab": {
          "base_uri": "https://localhost:8080/"
        }
      },
      "execution_count": 6,
      "outputs": [
        {
          "output_type": "stream",
          "name": "stdout",
          "text": [
            "sum 12\n",
            "3\n",
            "6\n"
          ]
        }
      ]
    },
    {
      "cell_type": "code",
      "source": [
        "#check even and odd\n",
        "\n",
        "x = lambda x: \"Even \" + str(x) if x%2 == 0 else \"odd \" + str(x)\n",
        "print(x(98))\n",
        "print(x(99))"
      ],
      "metadata": {
        "id": "HTca_AquUZoa",
        "outputId": "9c61a4ec-78a9-4cdc-fd8b-7f7a139c45b5",
        "colab": {
          "base_uri": "https://localhost:8080/"
        }
      },
      "execution_count": 10,
      "outputs": [
        {
          "output_type": "stream",
          "name": "stdout",
          "text": [
            "Even 98\n",
            "odd 99\n"
          ]
        }
      ]
    },
    {
      "cell_type": "code",
      "source": [
        "print((lambda x,y,z: x+y+z)(1,2,3))\n",
        "print((lambda x , y =2, z = 3 : x+y+z)(2))\n",
        "print((lambda *agrs: sum(agrs))(1,2,3,4,5))\n",
        "print((lambda **kwargs : sum(kwargs.values()))(a=1,b=2,c=3,d=4))"
      ],
      "metadata": {
        "id": "WoJ-fFQ9YIEX",
        "outputId": "dfd556dd-6874-4bb8-9c6c-089ab7a0c0bb",
        "colab": {
          "base_uri": "https://localhost:8080/"
        }
      },
      "execution_count": 15,
      "outputs": [
        {
          "output_type": "stream",
          "name": "stdout",
          "text": [
            "6\n",
            "7\n",
            "15\n",
            "10\n"
          ]
        }
      ]
    },
    {
      "cell_type": "code",
      "source": [
        "data = ['AIL00','AIL20','AIL30','AIL3','AIL221','AIL170','AIL782']\n",
        "\n",
        "print(sorted(data))\n",
        "\n",
        "x = sorted(data, key = lambda x : int(x[3:]))\n",
        "print(x)"
      ],
      "metadata": {
        "id": "TKH1nmL3aCaU",
        "outputId": "fe0d1f8b-7ce9-4a96-a118-be78434f0673",
        "colab": {
          "base_uri": "https://localhost:8080/"
        }
      },
      "execution_count": 17,
      "outputs": [
        {
          "output_type": "stream",
          "name": "stdout",
          "text": [
            "['AIL00', 'AIL170', 'AIL20', 'AIL221', 'AIL3', 'AIL30', 'AIL782']\n",
            "['AIL00', 'AIL3', 'AIL20', 'AIL30', 'AIL170', 'AIL221', 'AIL782']\n"
          ]
        }
      ]
    },
    {
      "cell_type": "code",
      "source": [
        "#Map and filter\n",
        "\n",
        "#Filter function -- In this we use condition and data...\n",
        "#if condition true and satisfies with data then it return\n",
        "#output otherwise not.\n",
        "#filter function except condition and data\n",
        "\n",
        "l = [12,64,78,95,63,45,71,13]\n",
        "\n",
        "def check(a):\n",
        "  if a%2==0:\n",
        "    return True\n",
        "  else:\n",
        "    return False\n",
        "\n",
        "f1 = filter(check,l)\n",
        "print(\"Filtered list\", list(f1))\n",
        "\n",
        "#using lambda\n",
        "\n",
        "print(list(filter(lambda x : x%2 == 0,l)))"
      ],
      "metadata": {
        "id": "z2Qlc7P0b6hw",
        "outputId": "2407cb84-df15-4132-d21b-b580327dc717",
        "colab": {
          "base_uri": "https://localhost:8080/"
        }
      },
      "execution_count": 19,
      "outputs": [
        {
          "output_type": "stream",
          "name": "stdout",
          "text": [
            "Filtered list [12, 64, 78]\n",
            "[12, 64, 78]\n"
          ]
        }
      ]
    },
    {
      "cell_type": "code",
      "source": [
        "#Map -- here is accepts data and modify it as per the logic\n",
        "#It also accept data and function\n",
        "#map(func,data)\n",
        "\n",
        "def sqr(data):\n",
        "  return data **2\n",
        "\n",
        "x = map(sqr,l)\n",
        "print(list(x))\n",
        "\n",
        "print(list(map(lambda x : x**2,l)))"
      ],
      "metadata": {
        "id": "Ar746qFTeUoM",
        "outputId": "4b82cc86-317a-41e9-97bd-be170115ab47",
        "colab": {
          "base_uri": "https://localhost:8080/"
        }
      },
      "execution_count": 22,
      "outputs": [
        {
          "output_type": "stream",
          "name": "stdout",
          "text": [
            "[144, 4096, 6084, 9025, 3969, 2025, 5041, 169]\n",
            "[144, 4096, 6084, 9025, 3969, 2025, 5041, 169]\n"
          ]
        }
      ]
    },
    {
      "cell_type": "code",
      "source": [],
      "metadata": {
        "id": "LlW92Cpqefdo"
      },
      "execution_count": null,
      "outputs": []
    }
  ]
}